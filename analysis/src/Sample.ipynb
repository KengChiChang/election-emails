{
 "cells": [
  {
   "cell_type": "markdown",
   "metadata": {},
   "source": [
    "# Sample the data"
   ]
  },
  {
   "cell_type": "code",
   "execution_count": 1,
   "metadata": {},
   "outputs": [],
   "source": [
    "import pandas as pd"
   ]
  },
  {
   "cell_type": "code",
   "execution_count": 2,
   "metadata": {},
   "outputs": [],
   "source": [
    "emails = pd.read_pickle('../data/dataframe.pkl')"
   ]
  },
  {
   "cell_type": "code",
   "execution_count": 3,
   "metadata": {},
   "outputs": [
    {
     "data": {
      "text/plain": [
       "Index(['email_recipient', 'email_sender', 'from_name', 'from_address',\n",
       "       'to_address', 'email_timestamp', 'email_path', 'headers', 'subject',\n",
       "       'body_text', 'preheader_long', 'preheader_short', 'body_text_sents',\n",
       "       'body_text_sents_filtered', 'uid', 'name', 'office_sought',\n",
       "       'party_affiliation', 'incumbent?', 'office_level', 'district_type',\n",
       "       'final_website', 'query_data', 'crawl_date', 'source', 'state',\n",
       "       'affiliate', 'view', 'supports/opposes', 'type', 'subtype', 'date',\n",
       "       'hour', 'day'],\n",
       "      dtype='object')"
      ]
     },
     "execution_count": 3,
     "metadata": {},
     "output_type": "execute_result"
    }
   ],
   "source": [
    "emails.columns"
   ]
  },
  {
   "cell_type": "code",
   "execution_count": 4,
   "metadata": {},
   "outputs": [],
   "source": [
    "emails['month'] = emails['date'].apply(lambda x: '-'.join(x.split('-')[:2]))"
   ]
  },
  {
   "cell_type": "code",
   "execution_count": 5,
   "metadata": {},
   "outputs": [
    {
     "data": {
      "text/plain": [
       "2020-09    0.194444\n",
       "2020-10    0.193423\n",
       "2020-08    0.136669\n",
       "2020-07    0.097751\n",
       "2020-06    0.086837\n",
       "2020-05    0.070934\n",
       "2020-04    0.053953\n",
       "2020-03    0.044743\n",
       "2020-02    0.040625\n",
       "2020-01    0.032442\n",
       "2019-12    0.029077\n",
       "2020-11    0.019101\n",
       "Name: month, dtype: float64"
      ]
     },
     "execution_count": 5,
     "metadata": {},
     "output_type": "execute_result"
    }
   ],
   "source": [
    "emails['month'].value_counts(normalize=True)"
   ]
  },
  {
   "cell_type": "code",
   "execution_count": 6,
   "metadata": {},
   "outputs": [],
   "source": [
    "sample = emails.groupby('month').sample(frac=0.01, random_state=2020)"
   ]
  },
  {
   "cell_type": "code",
   "execution_count": 7,
   "metadata": {},
   "outputs": [
    {
     "data": {
      "text/plain": [
       "2020-09    0.194392\n",
       "2020-10    0.193447\n",
       "2020-08    0.136736\n",
       "2020-07    0.097669\n",
       "2020-06    0.086957\n",
       "2020-05    0.070888\n",
       "2020-04    0.053875\n",
       "2020-03    0.044739\n",
       "2020-02    0.040643\n",
       "2020-01    0.032451\n",
       "2019-12    0.028986\n",
       "2020-11    0.019219\n",
       "Name: month, dtype: float64"
      ]
     },
     "execution_count": 7,
     "metadata": {},
     "output_type": "execute_result"
    }
   ],
   "source": [
    "sample['month'].value_counts(normalize=True)"
   ]
  },
  {
   "cell_type": "code",
   "execution_count": 8,
   "metadata": {},
   "outputs": [
    {
     "data": {
      "text/plain": [
       "3174"
      ]
     },
     "execution_count": 8,
     "metadata": {},
     "output_type": "execute_result"
    }
   ],
   "source": [
    "len(sample)"
   ]
  },
  {
   "cell_type": "code",
   "execution_count": 9,
   "metadata": {},
   "outputs": [],
   "source": [
    "#sample.to_csv('../data/learning/subject_sample.csv')"
   ]
  },
  {
   "cell_type": "code",
   "execution_count": 10,
   "metadata": {},
   "outputs": [],
   "source": [
    "df = pd.read_csv('../data/learning/subject_sample_coded.csv')"
   ]
  },
  {
   "cell_type": "markdown",
   "metadata": {},
   "source": [
    "Shufle:"
   ]
  },
  {
   "cell_type": "code",
   "execution_count": 11,
   "metadata": {},
   "outputs": [],
   "source": [
    "df_shuffled = df.sample(frac=1, random_state=181469)"
   ]
  },
  {
   "cell_type": "code",
   "execution_count": 12,
   "metadata": {},
   "outputs": [],
   "source": [
    "df_shuffled.iloc[:500, :].to_csv('../data/learning/subject_sample_coded_holdout.csv')"
   ]
  },
  {
   "cell_type": "code",
   "execution_count": 13,
   "metadata": {},
   "outputs": [],
   "source": [
    "df_shuffled.iloc[500:, :].to_csv('../data/learning/subject_sample_coded_learning.csv')"
   ]
  },
  {
   "cell_type": "code",
   "execution_count": null,
   "metadata": {},
   "outputs": [],
   "source": []
  }
 ],
 "metadata": {
  "kernelspec": {
   "display_name": "Python 3 (ipykernel)",
   "language": "python",
   "name": "python3"
  },
  "language_info": {
   "codemirror_mode": {
    "name": "ipython",
    "version": 3
   },
   "file_extension": ".py",
   "mimetype": "text/x-python",
   "name": "python",
   "nbconvert_exporter": "python",
   "pygments_lexer": "ipython3",
   "version": "3.8.2"
  }
 },
 "nbformat": 4,
 "nbformat_minor": 4
}
