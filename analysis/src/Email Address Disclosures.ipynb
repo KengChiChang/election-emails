{
 "cells": [
  {
   "cell_type": "markdown",
   "metadata": {},
   "source": [
    "# Email address disclosure analysis"
   ]
  },
  {
   "cell_type": "code",
   "execution_count": 1,
   "metadata": {},
   "outputs": [],
   "source": [
    "import pandas as pd\n",
    "import tldextract\n",
    "import numpy as np\n",
    "import hmac\n",
    "from email_utils import *"
   ]
  },
  {
   "cell_type": "markdown",
   "metadata": {},
   "source": [
    "## Read the data"
   ]
  },
  {
   "cell_type": "code",
   "execution_count": 2,
   "metadata": {},
   "outputs": [],
   "source": [
    "emails = pd.read_pickle('../data/release/v1.0/corpus_v1.0.pkl')"
   ]
  },
  {
   "cell_type": "code",
   "execution_count": 3,
   "metadata": {},
   "outputs": [
    {
     "data": {
      "text/plain": [
       "array(['from_name', 'from_address', 'subject', 'body_text', 'uid', 'name',\n",
       "       'office_sought', 'party_affiliation', 'office_level',\n",
       "       'district_type', 'final_website', 'crawl_date', 'source', 'state',\n",
       "       'type', 'subtype', 'date', 'hour', 'day', 'uid_email', 'uid_inbox',\n",
       "       'incumbent'], dtype=object)"
      ]
     },
     "execution_count": 3,
     "metadata": {},
     "output_type": "execute_result"
    }
   ],
   "source": [
    "emails.columns.values"
   ]
  },
  {
   "cell_type": "code",
   "execution_count": 4,
   "metadata": {},
   "outputs": [
    {
     "data": {
      "text/plain": [
       "317366"
      ]
     },
     "execution_count": 4,
     "metadata": {},
     "output_type": "execute_result"
    }
   ],
   "source": [
    "len(emails)"
   ]
  },
  {
   "cell_type": "markdown",
   "metadata": {},
   "source": [
    "Read in the index file for computing the names."
   ]
  },
  {
   "cell_type": "code",
   "execution_count": 5,
   "metadata": {},
   "outputs": [],
   "source": [
    "ifile = pd.read_csv('../data/release/v1.0/index_v1.0.csv')"
   ]
  },
  {
   "cell_type": "markdown",
   "metadata": {},
   "source": [
    "## Compute the domain of the sender"
   ]
  },
  {
   "cell_type": "code",
   "execution_count": 6,
   "metadata": {},
   "outputs": [],
   "source": [
    "def extract_tld(domain):\n",
    "    extract = tldextract.extract(domain.lower())\n",
    "    return extract.domain + '.' + extract.suffix\n",
    "\n",
    "emails['from_address_domain'] = emails['from_address'].apply(lambda x: extract_tld(x.split('@')[1]) if '@' in x else x)"
   ]
  },
  {
   "cell_type": "code",
   "execution_count": 7,
   "metadata": {},
   "outputs": [
    {
     "data": {
      "text/html": [
       "<div>\n",
       "<style scoped>\n",
       "    .dataframe tbody tr th:only-of-type {\n",
       "        vertical-align: middle;\n",
       "    }\n",
       "\n",
       "    .dataframe tbody tr th {\n",
       "        vertical-align: top;\n",
       "    }\n",
       "\n",
       "    .dataframe thead th {\n",
       "        text-align: right;\n",
       "    }\n",
       "</style>\n",
       "<table border=\"1\" class=\"dataframe\">\n",
       "  <thead>\n",
       "    <tr style=\"text-align: right;\">\n",
       "      <th></th>\n",
       "      <th>from_name</th>\n",
       "      <th>from_address</th>\n",
       "      <th>subject</th>\n",
       "      <th>body_text</th>\n",
       "      <th>uid</th>\n",
       "      <th>name</th>\n",
       "      <th>office_sought</th>\n",
       "      <th>party_affiliation</th>\n",
       "      <th>office_level</th>\n",
       "      <th>district_type</th>\n",
       "      <th>...</th>\n",
       "      <th>state</th>\n",
       "      <th>type</th>\n",
       "      <th>subtype</th>\n",
       "      <th>date</th>\n",
       "      <th>hour</th>\n",
       "      <th>day</th>\n",
       "      <th>uid_email</th>\n",
       "      <th>uid_inbox</th>\n",
       "      <th>incumbent</th>\n",
       "      <th>from_address_domain</th>\n",
       "    </tr>\n",
       "  </thead>\n",
       "  <tbody>\n",
       "    <tr>\n",
       "      <th>178893</th>\n",
       "      <td>Nikki Haley\" &lt;senate@@TheDailyGrind.news&gt;</td>\n",
       "      <td></td>\n",
       "      <td>The future of the America First agenda is in Y...</td>\n",
       "      <td>Republican Senate candidates in battleground s...</td>\n",
       "      <td>af9dc0d488a4559cb8e987cfc218ae61</td>\n",
       "      <td>Tea Party PAC</td>\n",
       "      <td>NaN</td>\n",
       "      <td>NaN</td>\n",
       "      <td>NaN</td>\n",
       "      <td>NaN</td>\n",
       "      <td>...</td>\n",
       "      <td>NaN</td>\n",
       "      <td>Super PAC</td>\n",
       "      <td>NaN</td>\n",
       "      <td>2020-06-30</td>\n",
       "      <td>21</td>\n",
       "      <td>Tue</td>\n",
       "      <td>23b2e5f31b0a2d1e7b59ea9d6b4c380c</td>\n",
       "      <td>a29669159cad2526ebfc10718b6b3eaf</td>\n",
       "      <td>NaN</td>\n",
       "      <td></td>\n",
       "    </tr>\n",
       "    <tr>\n",
       "      <th>188805</th>\n",
       "      <td>Missed Message from Don Jr. (via NRCC)\" &lt;membe...</td>\n",
       "      <td></td>\n",
       "      <td>Election Update: WE WON AGAIN!</td>\n",
       "      <td>Top Conservatives like YOU are the reason we a...</td>\n",
       "      <td>53a466809dd0517783ffebbb8c137158</td>\n",
       "      <td>Tea Party PAC</td>\n",
       "      <td>NaN</td>\n",
       "      <td>NaN</td>\n",
       "      <td>NaN</td>\n",
       "      <td>NaN</td>\n",
       "      <td>...</td>\n",
       "      <td>NaN</td>\n",
       "      <td>Super PAC</td>\n",
       "      <td>NaN</td>\n",
       "      <td>2020-06-24</td>\n",
       "      <td>20</td>\n",
       "      <td>Wed</td>\n",
       "      <td>87063c19ad2a2b3cdfd29816cf61be30</td>\n",
       "      <td>a29669159cad2526ebfc10718b6b3eaf</td>\n",
       "      <td>NaN</td>\n",
       "      <td></td>\n",
       "    </tr>\n",
       "    <tr>\n",
       "      <th>193188</th>\n",
       "      <td>TRUMP TOWNHALL TONIGHT at 9pm: 18 Patriots Nee...</td>\n",
       "      <td></td>\n",
       "      <td>Trump Alert</td>\n",
       "      <td>The President needs to know that he has your s...</td>\n",
       "      <td>1165ef9302e85438a90491b74143fcfc</td>\n",
       "      <td>Tea Party PAC</td>\n",
       "      <td>NaN</td>\n",
       "      <td>NaN</td>\n",
       "      <td>NaN</td>\n",
       "      <td>NaN</td>\n",
       "      <td>...</td>\n",
       "      <td>NaN</td>\n",
       "      <td>Super PAC</td>\n",
       "      <td>NaN</td>\n",
       "      <td>2020-06-25</td>\n",
       "      <td>16</td>\n",
       "      <td>Thu</td>\n",
       "      <td>c4001b4a24141b6e80c0a27dbf9cecd2</td>\n",
       "      <td>a29669159cad2526ebfc10718b6b3eaf</td>\n",
       "      <td>NaN</td>\n",
       "      <td></td>\n",
       "    </tr>\n",
       "    <tr>\n",
       "      <th>194270</th>\n",
       "      <td>2020 Election Alerts\" &lt;msc@@TheDailyGrind.news&gt;</td>\n",
       "      <td></td>\n",
       "      <td>Can you believe this?</td>\n",
       "      <td>Multiple recent polls have Joe Biden LEADING P...</td>\n",
       "      <td>06aaa3c7a5d1552cb5a3d0b6064126ba</td>\n",
       "      <td>Tea Party PAC</td>\n",
       "      <td>NaN</td>\n",
       "      <td>NaN</td>\n",
       "      <td>NaN</td>\n",
       "      <td>NaN</td>\n",
       "      <td>...</td>\n",
       "      <td>NaN</td>\n",
       "      <td>Super PAC</td>\n",
       "      <td>NaN</td>\n",
       "      <td>2020-07-07</td>\n",
       "      <td>15</td>\n",
       "      <td>Tue</td>\n",
       "      <td>c2bf30cf850a5cebd5438fe1bfc15962</td>\n",
       "      <td>a29669159cad2526ebfc10718b6b3eaf</td>\n",
       "      <td>NaN</td>\n",
       "      <td></td>\n",
       "    </tr>\n",
       "    <tr>\n",
       "      <th>218153</th>\n",
       "      <td></td>\n",
       "      <td></td>\n",
       "      <td>Did you catch President Obama’s message?!</td>\n",
       "      <td>“Our country’s future hangs on this election.”...</td>\n",
       "      <td>3ff149685d1f598b81f87c4556f2ed06</td>\n",
       "      <td>Blue Wave Project</td>\n",
       "      <td>NaN</td>\n",
       "      <td>NaN</td>\n",
       "      <td>NaN</td>\n",
       "      <td>NaN</td>\n",
       "      <td>...</td>\n",
       "      <td>NaN</td>\n",
       "      <td>Leadership/Single-issue PAC</td>\n",
       "      <td>Leadership PAC</td>\n",
       "      <td>2020-08-21</td>\n",
       "      <td>12</td>\n",
       "      <td>Fri</td>\n",
       "      <td>444bad71e5e1b36c72d61bf0a19bb494</td>\n",
       "      <td>c8dc10ebcbe0d68113cbd98b18d83e86</td>\n",
       "      <td>NaN</td>\n",
       "      <td></td>\n",
       "    </tr>\n",
       "    <tr>\n",
       "      <th>317208</th>\n",
       "      <td>State Rep Edie Hooton &lt;&gt;</td>\n",
       "      <td></td>\n",
       "      <td>Please confirm your subscription</td>\n",
       "      <td>Thank you Alex for your interest in our newsle...</td>\n",
       "      <td>d2abe5b9aac55384bcc132f906bdf86e</td>\n",
       "      <td>Edie Hooton</td>\n",
       "      <td>Colorado House of Representatives District 10</td>\n",
       "      <td>Democratic Party</td>\n",
       "      <td>State</td>\n",
       "      <td>State Legislative (Lower)</td>\n",
       "      <td>...</td>\n",
       "      <td>NaN</td>\n",
       "      <td>NaN</td>\n",
       "      <td>NaN</td>\n",
       "      <td>2020-05-27</td>\n",
       "      <td>16</td>\n",
       "      <td>Wed</td>\n",
       "      <td>2dee4b7ef6c3b0e7d5e2d96156950014</td>\n",
       "      <td>867fffc2f3332c5c835dd76b57691942</td>\n",
       "      <td>Yes</td>\n",
       "      <td></td>\n",
       "    </tr>\n",
       "    <tr>\n",
       "      <th>322633</th>\n",
       "      <td></td>\n",
       "      <td></td>\n",
       "      <td>Trump Can't Stop Us from Voting</td>\n",
       "      <td>Alex,\\nPresident Trump’s sabotage of the US Po...</td>\n",
       "      <td>67329b2daa20559e96481e91190e69bc</td>\n",
       "      <td>Raquel Teran</td>\n",
       "      <td>Arizona House of Representatives District 30</td>\n",
       "      <td>Democratic Party</td>\n",
       "      <td>State</td>\n",
       "      <td>State Legislative (Lower)</td>\n",
       "      <td>...</td>\n",
       "      <td>NaN</td>\n",
       "      <td>NaN</td>\n",
       "      <td>NaN</td>\n",
       "      <td>2020-08-15</td>\n",
       "      <td>15</td>\n",
       "      <td>Sat</td>\n",
       "      <td>447c84d43caf7faf73e997452c9dc8e3</td>\n",
       "      <td>9b4322b91ef3e0d7a206da0b1add4c11</td>\n",
       "      <td>Yes</td>\n",
       "      <td></td>\n",
       "    </tr>\n",
       "  </tbody>\n",
       "</table>\n",
       "<p>7 rows × 23 columns</p>\n",
       "</div>"
      ],
      "text/plain": [
       "                                                from_name from_address  \\\n",
       "178893          Nikki Haley\" <senate@@TheDailyGrind.news>                \n",
       "188805  Missed Message from Don Jr. (via NRCC)\" <membe...                \n",
       "193188  TRUMP TOWNHALL TONIGHT at 9pm: 18 Patriots Nee...                \n",
       "194270    2020 Election Alerts\" <msc@@TheDailyGrind.news>                \n",
       "218153                                                                   \n",
       "317208                           State Rep Edie Hooton <>                \n",
       "322633                                                                   \n",
       "\n",
       "                                                  subject  \\\n",
       "178893  The future of the America First agenda is in Y...   \n",
       "188805                     Election Update: WE WON AGAIN!   \n",
       "193188                                        Trump Alert   \n",
       "194270                              Can you believe this?   \n",
       "218153          Did you catch President Obama’s message?!   \n",
       "317208                   Please confirm your subscription   \n",
       "322633                    Trump Can't Stop Us from Voting   \n",
       "\n",
       "                                                body_text  \\\n",
       "178893  Republican Senate candidates in battleground s...   \n",
       "188805  Top Conservatives like YOU are the reason we a...   \n",
       "193188  The President needs to know that he has your s...   \n",
       "194270  Multiple recent polls have Joe Biden LEADING P...   \n",
       "218153  “Our country’s future hangs on this election.”...   \n",
       "317208  Thank you Alex for your interest in our newsle...   \n",
       "322633  Alex,\\nPresident Trump’s sabotage of the US Po...   \n",
       "\n",
       "                                     uid               name  \\\n",
       "178893  af9dc0d488a4559cb8e987cfc218ae61      Tea Party PAC   \n",
       "188805  53a466809dd0517783ffebbb8c137158      Tea Party PAC   \n",
       "193188  1165ef9302e85438a90491b74143fcfc      Tea Party PAC   \n",
       "194270  06aaa3c7a5d1552cb5a3d0b6064126ba      Tea Party PAC   \n",
       "218153  3ff149685d1f598b81f87c4556f2ed06  Blue Wave Project   \n",
       "317208  d2abe5b9aac55384bcc132f906bdf86e        Edie Hooton   \n",
       "322633  67329b2daa20559e96481e91190e69bc       Raquel Teran   \n",
       "\n",
       "                                        office_sought party_affiliation  \\\n",
       "178893                                            NaN               NaN   \n",
       "188805                                            NaN               NaN   \n",
       "193188                                            NaN               NaN   \n",
       "194270                                            NaN               NaN   \n",
       "218153                                            NaN               NaN   \n",
       "317208  Colorado House of Representatives District 10  Democratic Party   \n",
       "322633   Arizona House of Representatives District 30  Democratic Party   \n",
       "\n",
       "       office_level              district_type  ... state  \\\n",
       "178893          NaN                        NaN  ...   NaN   \n",
       "188805          NaN                        NaN  ...   NaN   \n",
       "193188          NaN                        NaN  ...   NaN   \n",
       "194270          NaN                        NaN  ...   NaN   \n",
       "218153          NaN                        NaN  ...   NaN   \n",
       "317208        State  State Legislative (Lower)  ...   NaN   \n",
       "322633        State  State Legislative (Lower)  ...   NaN   \n",
       "\n",
       "                               type         subtype        date hour  day  \\\n",
       "178893                    Super PAC             NaN  2020-06-30   21  Tue   \n",
       "188805                    Super PAC             NaN  2020-06-24   20  Wed   \n",
       "193188                    Super PAC             NaN  2020-06-25   16  Thu   \n",
       "194270                    Super PAC             NaN  2020-07-07   15  Tue   \n",
       "218153  Leadership/Single-issue PAC  Leadership PAC  2020-08-21   12  Fri   \n",
       "317208                          NaN             NaN  2020-05-27   16  Wed   \n",
       "322633                          NaN             NaN  2020-08-15   15  Sat   \n",
       "\n",
       "                               uid_email                         uid_inbox  \\\n",
       "178893  23b2e5f31b0a2d1e7b59ea9d6b4c380c  a29669159cad2526ebfc10718b6b3eaf   \n",
       "188805  87063c19ad2a2b3cdfd29816cf61be30  a29669159cad2526ebfc10718b6b3eaf   \n",
       "193188  c4001b4a24141b6e80c0a27dbf9cecd2  a29669159cad2526ebfc10718b6b3eaf   \n",
       "194270  c2bf30cf850a5cebd5438fe1bfc15962  a29669159cad2526ebfc10718b6b3eaf   \n",
       "218153  444bad71e5e1b36c72d61bf0a19bb494  c8dc10ebcbe0d68113cbd98b18d83e86   \n",
       "317208  2dee4b7ef6c3b0e7d5e2d96156950014  867fffc2f3332c5c835dd76b57691942   \n",
       "322633  447c84d43caf7faf73e997452c9dc8e3  9b4322b91ef3e0d7a206da0b1add4c11   \n",
       "\n",
       "       incumbent from_address_domain  \n",
       "178893       NaN                      \n",
       "188805       NaN                      \n",
       "193188       NaN                      \n",
       "194270       NaN                      \n",
       "218153       NaN                      \n",
       "317208       Yes                      \n",
       "322633       Yes                      \n",
       "\n",
       "[7 rows x 23 columns]"
      ]
     },
     "execution_count": 7,
     "metadata": {},
     "output_type": "execute_result"
    }
   ],
   "source": [
    "emails[~emails['from_address'].str.contains('@')]"
   ]
  },
  {
   "cell_type": "code",
   "execution_count": 8,
   "metadata": {},
   "outputs": [
    {
     "data": {
      "text/plain": [
       "0          kathleenformontana.com\n",
       "1          kathleenformontana.com\n",
       "2          kathleenformontana.com\n",
       "3          kathleenformontana.com\n",
       "4          kathleenformontana.com\n",
       "                   ...           \n",
       "324376                  gmail.com\n",
       "324377                  gmail.com\n",
       "324378            danmcentire.com\n",
       "324379           bri4colorado.com\n",
       "324380    mattreevesforsenate.com\n",
       "Name: from_address_domain, Length: 317366, dtype: object"
      ]
     },
     "execution_count": 8,
     "metadata": {},
     "output_type": "execute_result"
    }
   ],
   "source": [
    "emails['from_address_domain']"
   ]
  },
  {
   "cell_type": "markdown",
   "metadata": {},
   "source": [
    "## Email sharing"
   ]
  },
  {
   "cell_type": "code",
   "execution_count": 9,
   "metadata": {},
   "outputs": [],
   "source": [
    "def compile(x):\n",
    "    final_website = set(x['final_website'].astype(str).to_list())\n",
    "    if len(final_website) > 1:\n",
    "        print('Error, investigate')\n",
    "    else:\n",
    "        final_website = final_website.pop()\n",
    "\n",
    "    if final_website.startswith('https://www.'):\n",
    "        final_website = final_website[12:]\n",
    "    elif final_website.startswith('http://www.'):\n",
    "        final_website = final_website[11:]\n",
    "    elif final_website.startswith('https://'):\n",
    "        final_website = final_website[8:]\n",
    "    elif final_website.startswith('http://'):\n",
    "        final_website = final_website[7:]\n",
    "    elif final_website.startswith('www.'):\n",
    "        final_website = final_website[4:]\n",
    "\n",
    "    final_website = final_website.strip('/').strip()\n",
    "    \n",
    "    df = x[x['from_address_domain'] != final_website][['from_address', 'from_address_domain']].drop_duplicates()\n",
    "    \n",
    "    return df if len(df) > 0 else None\n",
    "\n",
    "frame = emails.groupby('uid_inbox').apply(compile).reset_index().merge(ifile, on='uid_inbox', how='inner')[['uid_inbox', 'name', 'office_sought', 'type', 'subtype', 'party_affiliation', 'incumbent', 'office_level', 'district_type', 'source', 'from_address', 'from_address_domain','final_website']]"
   ]
  },
  {
   "cell_type": "code",
   "execution_count": 10,
   "metadata": {},
   "outputs": [
    {
     "data": {
      "text/plain": [
       "3424"
      ]
     },
     "execution_count": 10,
     "metadata": {},
     "output_type": "execute_result"
    }
   ],
   "source": [
    "len(frame)"
   ]
  },
  {
   "cell_type": "code",
   "execution_count": 11,
   "metadata": {},
   "outputs": [],
   "source": [
    "frame.to_csv('../data/leaks/leaks.csv', index=False)"
   ]
  },
  {
   "cell_type": "markdown",
   "metadata": {},
   "source": [
    "## Email sharing statistics"
   ]
  },
  {
   "cell_type": "markdown",
   "metadata": {},
   "source": [
    "Read in the coded dataset"
   ]
  },
  {
   "cell_type": "code",
   "execution_count": 12,
   "metadata": {},
   "outputs": [],
   "source": [
    "coded_frame = pd.read_csv('../data/leaks/leaks_coded.csv')"
   ]
  },
  {
   "cell_type": "code",
   "execution_count": 13,
   "metadata": {},
   "outputs": [],
   "source": [
    "coded_frame = coded_frame[coded_frame['mailing_list'] == 'yes']"
   ]
  },
  {
   "cell_type": "code",
   "execution_count": 14,
   "metadata": {},
   "outputs": [
    {
     "data": {
      "text/plain": [
       "Index(['to_address', 'office_sought', 'type', 'subtype', 'party_affiliation',\n",
       "       'incumbent', 'office_level', 'district_type', 'source', 'name',\n",
       "       'final_website', 'from_address', 'from_address_domain',\n",
       "       'from_address_domain_type', 'from_address_org',\n",
       "       'from_address_domain_office_level', 'mailing_list', 'notes'],\n",
       "      dtype='object')"
      ]
     },
     "execution_count": 14,
     "metadata": {},
     "output_type": "execute_result"
    }
   ],
   "source": [
    "coded_frame.columns"
   ]
  },
  {
   "cell_type": "code",
   "execution_count": 15,
   "metadata": {},
   "outputs": [],
   "source": [
    "key = open('/Users/aruneshmathur/.ssh/id_rsa', 'rb').read()\n",
    "coded_frame['uid_inbox'] = coded_frame.apply(lambda x: hmac.new(key, (x['to_address']).encode(), digestmod='md5').hexdigest(), axis=1)\n",
    "del coded_frame['to_address']"
   ]
  },
  {
   "cell_type": "code",
   "execution_count": 16,
   "metadata": {},
   "outputs": [],
   "source": [
    "coded_frame = coded_frame[['uid_inbox', 'office_sought', 'type', 'subtype', 'party_affiliation',\n",
    "       'incumbent', 'office_level', 'district_type', 'source', 'name',\n",
    "       'final_website', 'from_address_domain_office_level',\n",
    "       'from_address_domain_type', 'from_address_org', 'mailing_list']]"
   ]
  },
  {
   "cell_type": "code",
   "execution_count": 17,
   "metadata": {},
   "outputs": [
    {
     "data": {
      "text/plain": [
       "1306"
      ]
     },
     "execution_count": 17,
     "metadata": {},
     "output_type": "execute_result"
    }
   ],
   "source": [
    "len(coded_frame)"
   ]
  },
  {
   "cell_type": "code",
   "execution_count": 18,
   "metadata": {},
   "outputs": [
    {
     "data": {
      "text/plain": [
       "741"
      ]
     },
     "execution_count": 18,
     "metadata": {},
     "output_type": "execute_result"
    }
   ],
   "source": [
    "len(coded_frame.drop_duplicates())"
   ]
  },
  {
   "cell_type": "code",
   "execution_count": 19,
   "metadata": {},
   "outputs": [],
   "source": [
    "coded_frame = coded_frame.drop_duplicates()"
   ]
  },
  {
   "cell_type": "code",
   "execution_count": 20,
   "metadata": {},
   "outputs": [
    {
     "data": {
      "text/plain": [
       "ballotpedia-campaign    565\n",
       "orgs                    176\n",
       "Name: source, dtype: int64"
      ]
     },
     "execution_count": 20,
     "metadata": {},
     "output_type": "execute_result"
    }
   ],
   "source": [
    "coded_frame['source'].value_counts(dropna=False)"
   ]
  },
  {
   "cell_type": "code",
   "execution_count": 21,
   "metadata": {},
   "outputs": [
    {
     "data": {
      "text/plain": [
       "Federal    443\n",
       "NaN        176\n",
       "State      122\n",
       "Name: office_level, dtype: int64"
      ]
     },
     "execution_count": 21,
     "metadata": {},
     "output_type": "execute_result"
    }
   ],
   "source": [
    "coded_frame[['uid_inbox', 'source', 'office_level']]['office_level'].value_counts(dropna=False)"
   ]
  },
  {
   "cell_type": "code",
   "execution_count": 22,
   "metadata": {},
   "outputs": [
    {
     "data": {
      "text/plain": [
       "ballotpedia-campaign    258\n",
       "orgs                     64\n",
       "Name: source, dtype: int64"
      ]
     },
     "execution_count": 22,
     "metadata": {},
     "output_type": "execute_result"
    }
   ],
   "source": [
    "coded_frame[['uid_inbox', 'source']].drop_duplicates()['source'].value_counts(dropna=False)"
   ]
  },
  {
   "cell_type": "code",
   "execution_count": 23,
   "metadata": {},
   "outputs": [
    {
     "data": {
      "text/plain": [
       "Federal    168\n",
       "State       90\n",
       "NaN         64\n",
       "Name: office_level, dtype: int64"
      ]
     },
     "execution_count": 23,
     "metadata": {},
     "output_type": "execute_result"
    }
   ],
   "source": [
    "coded_frame[['uid_inbox', 'source', 'office_level']].drop_duplicates()['office_level'].value_counts(dropna=False)"
   ]
  },
  {
   "cell_type": "code",
   "execution_count": 24,
   "metadata": {},
   "outputs": [],
   "source": [
    "coded_frame['from_address_domain_type'] = coded_frame['from_address_domain_type'].apply(lambda x: 'PAC' if 'PAC' in x else x)"
   ]
  },
  {
   "cell_type": "code",
   "execution_count": 25,
   "metadata": {},
   "outputs": [],
   "source": [
    "def codify_origin(row):\n",
    "    if row['source'] == 'ballotpedia-campaign':\n",
    "        return row['office_level'] + ' Campaign'\n",
    "        \n",
    "    if 'PAC' in row['type']:\n",
    "        return 'PAC'\n",
    "    \n",
    "    return row['type']\n",
    "\n",
    "def codify_destination(row):\n",
    "    if row['from_address_domain_type'] == 'Campaign':\n",
    "        return row['from_address_domain_office_level'] + ' Campaign'\n",
    "    else:\n",
    "        return row['from_address_domain_type']\n",
    "\n",
    "coded_frame['origin'] = coded_frame.apply(codify_origin, axis=1)\n",
    "coded_frame['destination'] = coded_frame.apply(codify_destination, axis=1)"
   ]
  },
  {
   "cell_type": "code",
   "execution_count": 26,
   "metadata": {},
   "outputs": [
    {
     "data": {
      "text/plain": [
       "Federal Campaign -> Federal Campaign                  173\n",
       "Federal Campaign -> PAC                               125\n",
       "PAC -> PAC                                             85\n",
       "Federal Campaign -> Organization                       43\n",
       "Federal Campaign -> State Campaign                     36\n",
       "State Campaign -> State Campaign                       27\n",
       "State Campaign -> Organization                         22\n",
       "PAC -> Federal Campaign                                20\n",
       "PAC -> Organization                                    19\n",
       "State Campaign -> PAC                                  18\n",
       "State Campaign -> Elected Official                     16\n",
       "Federal Campaign -> State Political Party              15\n",
       "Federal Campaign -> Political Committee                14\n",
       "State Campaign -> Federal Campaign                     13\n",
       "Federal Campaign -> Mailing List                       11\n",
       "Federal Campaign -> Elected Official Campaign          10\n",
       "PAC -> News                                             8\n",
       "State Campaign -> 527 group                             8\n",
       "State Political Party -> Federal Campaign               8\n",
       "State Campaign -> State Political Party                 7\n",
       "PAC -> Mailing List                                     7\n",
       "State Political Party -> Organization                   5\n",
       "Federal Campaign -> City Campaign                       4\n",
       "Federal Campaign -> County Political Party              3\n",
       "State Campaign -> County Political Party                3\n",
       "State Political Party -> State Campaign                 3\n",
       "State Campaign -> Elected Official Campaign             3\n",
       "Federal Campaign -> County Campaign                     3\n",
       "PAC -> Individual                                       2\n",
       "State Political Party -> Mailing List                   2\n",
       "Federal Political Party -> Federal Campaign             2\n",
       "Federal Campaign -> News                                2\n",
       "State Campaign -> City Campaign                         2\n",
       "State Political Party -> State Political Party          2\n",
       "State Political Party -> Political Committee            1\n",
       "Federal Political Party -> PAC                          1\n",
       "527 group -> State Political Party                      1\n",
       "527 group -> Political Committee                        1\n",
       "527 group -> Organization                               1\n",
       "PAC -> State Political Party                            1\n",
       "PAC -> Political Committee                              1\n",
       "Federal Campaign -> Individual                          1\n",
       "PAC -> Mailing List/News/Editorial                      1\n",
       "PAC -> Mailing List/News                                1\n",
       "State Campaign -> Mailing List                          1\n",
       "Federal Campaign -> Joint Fundraising Committee         1\n",
       "Federal Campaign -> 527 group                           1\n",
       "Federal Political Party -> Federal Political Party      1\n",
       "Federal Campaign -> Federal Political Party             1\n",
       "State Political Party -> Elected Official Campaign      1\n",
       "PAC -> Community                                        1\n",
       "State Campaign -> County Campaign                       1\n",
       "State Campaign -> School Campaign                       1\n",
       "State Political Party -> PAC                            1\n",
       "dtype: int64"
      ]
     },
     "execution_count": 26,
     "metadata": {},
     "output_type": "execute_result"
    }
   ],
   "source": [
    "directions = (coded_frame['origin'] + ' -> ' + coded_frame['destination']).value_counts()\n",
    "directions"
   ]
  },
  {
   "cell_type": "code",
   "execution_count": 27,
   "metadata": {},
   "outputs": [],
   "source": [
    "sources = ['Federal Campaign', 'PAC', 'State Campaign']\n",
    "dests = ['Federal Campaign', 'PAC', 'Organization', 'Elected Official', '527 group', 'News', 'Mailing List', 'State Campaign', 'Elected Official Campaign']\n",
    "\n",
    "coded_frame['origin_condensed'] = coded_frame['origin'].apply(lambda x: x if x in sources else 'Other')\n",
    "coded_frame['destination_condensed'] = coded_frame['destination'].apply(lambda x: x if x in dests else 'Other')"
   ]
  },
  {
   "cell_type": "code",
   "execution_count": 28,
   "metadata": {},
   "outputs": [
    {
     "data": {
      "text/plain": [
       "Federal Campaign -> Federal Campaign             173\n",
       "Federal Campaign -> PAC                          125\n",
       "PAC -> PAC                                        85\n",
       "Federal Campaign -> Organization                  43\n",
       "Federal Campaign -> Other                         42\n",
       "Federal Campaign -> State Campaign                36\n",
       "State Campaign -> State Campaign                  27\n",
       "State Campaign -> Organization                    22\n",
       "PAC -> Federal Campaign                           20\n",
       "PAC -> Organization                               19\n",
       "State Campaign -> PAC                             18\n",
       "State Campaign -> Elected Official                16\n",
       "State Campaign -> Other                           14\n",
       "State Campaign -> Federal Campaign                13\n",
       "Federal Campaign -> Mailing List                  11\n",
       "Federal Campaign -> Elected Official Campaign     10\n",
       "Other -> Federal Campaign                         10\n",
       "PAC -> News                                        8\n",
       "State Campaign -> 527 group                        8\n",
       "PAC -> Other                                       7\n",
       "PAC -> Mailing List                                7\n",
       "Other -> Organization                              6\n",
       "Other -> Other                                     6\n",
       "State Campaign -> Elected Official Campaign        3\n",
       "Other -> State Campaign                            3\n",
       "Other -> PAC                                       2\n",
       "Federal Campaign -> News                           2\n",
       "Other -> Mailing List                              2\n",
       "State Campaign -> Mailing List                     1\n",
       "Federal Campaign -> 527 group                      1\n",
       "Other -> Elected Official Campaign                 1\n",
       "dtype: int64"
      ]
     },
     "execution_count": 28,
     "metadata": {},
     "output_type": "execute_result"
    }
   ],
   "source": [
    "directions = (coded_frame['origin_condensed'] + ' -> ' + coded_frame['destination_condensed']).value_counts()\n",
    "directions"
   ]
  },
  {
   "cell_type": "code",
   "execution_count": 29,
   "metadata": {},
   "outputs": [
    {
     "data": {
      "text/plain": [
       "Train democrats                                16\n",
       "End Citizens United                            14\n",
       "Progressive Turnout Project                    14\n",
       "Stop Republicans PAC                           14\n",
       "Congressional Black Caucus PAC                 12\n",
       "Brady PAC                                      12\n",
       "Progress Texas                                 11\n",
       "Wendy Davis                                    11\n",
       "Committee for Hispanic Causes-BOLD PAC         11\n",
       "AmeriPAC: The Fund for a Greater America       10\n",
       "Democratic Senatorial Campaign Committee       10\n",
       "Mary Jennings \"M.J.\" Hegar                     10\n",
       "Congressional Progressive Caucus PAC            9\n",
       "Candace Valenzuela                              8\n",
       "House Majority PAC                              8\n",
       "Let America Vote Victory Fund                   7\n",
       "Save America Fund                               7\n",
       "Joe Biden                                       7\n",
       "Voter Protection Project                        7\n",
       "Democratic Congressional Campaign Committee     6\n",
       "Elect Democratic Women                          6\n",
       "Equality PAC                                    6\n",
       "HER Time PAC                                    5\n",
       "Schools and Communities First                   5\n",
       "Every Single Vote                               5\n",
       "Donna Shalala                                   4\n",
       "Alan Cohn                                       4\n",
       "Medicare for All PAC                            4\n",
       "Jon Hoadley                                     4\n",
       "Fight for Progress PAC                          4\n",
       "Montana Democrats                               4\n",
       "Florida Democrats                               4\n",
       "Democratic Strategy Institute                   4\n",
       "Josh Harder                                     4\n",
       "E Pluribus PAC                                  3\n",
       "Name: from_address_org, dtype: int64"
      ]
     },
     "execution_count": 29,
     "metadata": {},
     "output_type": "execute_result"
    }
   ],
   "source": [
    "coded_frame['from_address_org'].value_counts()[:35]"
   ]
  },
  {
   "cell_type": "code",
   "execution_count": 30,
   "metadata": {},
   "outputs": [
    {
     "data": {
      "text/plain": [
       "Evelyn Farkas                             20\n",
       "Lulu Seikaly                              19\n",
       "Sima Ladjevardian                         18\n",
       "Sri Preston Kulkarni                      18\n",
       "Sean Maloney                              14\n",
       "Congressional Progressive Caucus PAC      14\n",
       "Democratic Conservation Alliance          14\n",
       "Elect Democratic Women                    13\n",
       "Medicare for All PAC                      13\n",
       "Let America Vote Victory Fund             13\n",
       "TJ Cox                                    12\n",
       "Marie Newman                              12\n",
       "Ginger Bock                               10\n",
       "Brynne Kennedy                             9\n",
       "Committee for Hispanic Causes-BOLD PAC     9\n",
       "Amanda Stuck                               9\n",
       "Tea Party PAC                              9\n",
       "Beth Doglio                                8\n",
       "Harley Rouda                               8\n",
       "Phil Arballo                               8\n",
       "Scott Cooper                               7\n",
       "Candace Valenzuela                         7\n",
       "Great America PAC                          6\n",
       "Debbie Mucarsel-Powell                     6\n",
       "Kim Olson                                  6\n",
       "Quinn Nystrom                              6\n",
       "Cora Neumann                               6\n",
       "Desiree Tims                               6\n",
       "Mary Jennings \"M.J.\" Hegar                 6\n",
       "Al Green                                   5\n",
       "Blue Wave Project                          5\n",
       "Maine Republicans                          5\n",
       "Brigid Callahan Harrison                   5\n",
       "Margaret Good                              5\n",
       "Monika Johnson-Hostler                     5\n",
       "Name: name, dtype: int64"
      ]
     },
     "execution_count": 30,
     "metadata": {},
     "output_type": "execute_result"
    }
   ],
   "source": [
    "coded_frame['name'].value_counts()[:35]"
   ]
  },
  {
   "cell_type": "code",
   "execution_count": 31,
   "metadata": {},
   "outputs": [
    {
     "data": {
      "text/plain": [
       "PAC                          230\n",
       "Federal Campaign             216\n",
       "Organization                  90\n",
       "Other                         69\n",
       "State Campaign                66\n",
       "Mailing List                  21\n",
       "Elected Official              16\n",
       "Elected Official Campaign     14\n",
       "News                          10\n",
       "527 group                      9\n",
       "Name: destination_condensed, dtype: int64"
      ]
     },
     "execution_count": 31,
     "metadata": {},
     "output_type": "execute_result"
    }
   ],
   "source": [
    "coded_frame['destination_condensed'].value_counts()[:35]"
   ]
  },
  {
   "cell_type": "code",
   "execution_count": 32,
   "metadata": {},
   "outputs": [
    {
     "data": {
      "text/plain": [
       "Federal Campaign    443\n",
       "PAC                 146\n",
       "State Campaign      122\n",
       "Other                30\n",
       "Name: origin_condensed, dtype: int64"
      ]
     },
     "execution_count": 32,
     "metadata": {},
     "output_type": "execute_result"
    }
   ],
   "source": [
    "coded_frame['origin_condensed'].value_counts()[:35]"
   ]
  },
  {
   "cell_type": "markdown",
   "metadata": {},
   "source": [
    "## Sharing timeline"
   ]
  },
  {
   "cell_type": "code",
   "execution_count": 33,
   "metadata": {},
   "outputs": [],
   "source": [
    "coded_frame = pd.read_csv('../data/leaks/leaks_coded.csv')\n",
    "coded_frame = coded_frame[coded_frame['mailing_list'] == 'yes']"
   ]
  },
  {
   "cell_type": "code",
   "execution_count": 34,
   "metadata": {},
   "outputs": [
    {
     "data": {
      "text/plain": [
       "Index(['to_address', 'office_sought', 'type', 'subtype', 'party_affiliation',\n",
       "       'incumbent', 'office_level', 'district_type', 'source', 'name',\n",
       "       'final_website', 'from_address', 'from_address_domain',\n",
       "       'from_address_domain_type', 'from_address_org',\n",
       "       'from_address_domain_office_level', 'mailing_list', 'notes'],\n",
       "      dtype='object')"
      ]
     },
     "execution_count": 34,
     "metadata": {},
     "output_type": "execute_result"
    }
   ],
   "source": [
    "coded_frame.columns"
   ]
  },
  {
   "cell_type": "code",
   "execution_count": 35,
   "metadata": {},
   "outputs": [],
   "source": [
    "coded_frame['uid_inbox'] = coded_frame.apply(lambda x: hmac.new(key, (x['to_address']).encode(), digestmod='md5').hexdigest(), axis=1)\n",
    "del coded_frame['to_address']"
   ]
  },
  {
   "cell_type": "code",
   "execution_count": 36,
   "metadata": {},
   "outputs": [],
   "source": [
    "def get_date(row):\n",
    "    uid_inbox = row['uid_inbox']\n",
    "    from_address = row['from_address']\n",
    "    \n",
    "    date_shared = emails[(emails['from_address'] == from_address) & (emails['uid_inbox'] == uid_inbox)].sort_values('date', ascending=True)['date'].iloc[0]\n",
    "    \n",
    "    return date_shared\n",
    "    \n",
    "coded_frame['date_shared'] = coded_frame.apply(get_date, axis=1)"
   ]
  },
  {
   "cell_type": "code",
   "execution_count": 37,
   "metadata": {},
   "outputs": [],
   "source": [
    "coded_frame = coded_frame.groupby(['uid_inbox', 'office_sought', 'type', 'subtype', 'party_affiliation',\n",
    "                         'incumbent', 'office_level', 'district_type', 'source', 'name',\n",
    "                         'final_website', 'from_address_domain_office_level',\n",
    "                         'from_address_domain_type', 'from_address_org', 'mailing_list'], dropna=False).apply(lambda x: x.sort_values('date_shared', ascending=True)['date_shared'].iloc[0]).reset_index(name='date_shared')"
   ]
  },
  {
   "cell_type": "code",
   "execution_count": 38,
   "metadata": {},
   "outputs": [],
   "source": [
    "coded_frame['crawl_date'] = coded_frame['uid_inbox'].apply(lambda x: emails[emails['uid_inbox'] == x]['crawl_date'].iloc[0])"
   ]
  },
  {
   "cell_type": "code",
   "execution_count": 39,
   "metadata": {},
   "outputs": [],
   "source": [
    "coded_frame['crawl_date'] = pd.to_datetime(coded_frame['crawl_date'])\n",
    "coded_frame['date_shared'] = pd.to_datetime(coded_frame['date_shared'])"
   ]
  },
  {
   "cell_type": "code",
   "execution_count": 40,
   "metadata": {},
   "outputs": [],
   "source": [
    "coded_frame['days_before_share'] = (coded_frame['date_shared'] - coded_frame['crawl_date']).dt.days"
   ]
  },
  {
   "cell_type": "code",
   "execution_count": 41,
   "metadata": {},
   "outputs": [
    {
     "data": {
      "text/plain": [
       "Text(0, 0.5, 'Count')"
      ]
     },
     "execution_count": 41,
     "metadata": {},
     "output_type": "execute_result"
    },
    {
     "data": {
      "image/png": "[encoded data removed]",
      "text/plain": [
       "<Figure size 432x288 with 1 Axes>"
      ]
     },
     "metadata": {
      "needs_background": "light"
     },
     "output_type": "display_data"
    }
   ],
   "source": [
    "ax = coded_frame['days_before_share'].hist(bins = 20)\n",
    "ax.set_xlabel('Days since signup after which the address was shared')\n",
    "ax.set_ylabel('Count')"
   ]
  },
  {
   "cell_type": "code",
   "execution_count": 42,
   "metadata": {},
   "outputs": [],
   "source": [
    "coded_frame['date_crawled_month'] = coded_frame['crawl_date'].dt.strftime('%Y-%m').astype(str)\n",
    "coded_frame['date_shared_month'] = coded_frame['date_shared'].dt.strftime('%Y-%m').astype(str)"
   ]
  },
  {
   "cell_type": "code",
   "execution_count": 43,
   "metadata": {},
   "outputs": [
    {
     "data": {
      "text/plain": [
       "<AxesSubplot:>"
      ]
     },
     "execution_count": 43,
     "metadata": {},
     "output_type": "execute_result"
    },
    {
     "data": {
      "image/png": "[encoded data removed]",
      "text/plain": [
       "<Figure size 432x288 with 1 Axes>"
      ]
     },
     "metadata": {
      "needs_background": "light"
     },
     "output_type": "display_data"
    }
   ],
   "source": [
    "coded_frame['date_shared_month'].value_counts().sort_index().plot(kind='bar')"
   ]
  },
  {
   "cell_type": "code",
   "execution_count": 44,
   "metadata": {},
   "outputs": [],
   "source": [
    "plotdf = coded_frame[['date_crawled_month', 'date_shared_month']].groupby(['date_crawled_month', 'date_shared_month']).size()"
   ]
  },
  {
   "cell_type": "code",
   "execution_count": 45,
   "metadata": {},
   "outputs": [
    {
     "data": {
      "text/plain": [
       "<AxesSubplot:xlabel='date_crawled_month', ylabel='date_shared_month'>"
      ]
     },
     "execution_count": 45,
     "metadata": {},
     "output_type": "execute_result"
    },
    {
     "data": {
      "image/png": "[encoded data removed]",
      "text/plain": [
       "<Figure size 432x288 with 1 Axes>"
      ]
     },
     "metadata": {
      "needs_background": "light"
     },
     "output_type": "display_data"
    }
   ],
   "source": [
    "plotdf.reset_index(name='count').plot.scatter('date_crawled_month', 'date_shared_month', 'count')"
   ]
  },
  {
   "cell_type": "code",
   "execution_count": null,
   "metadata": {},
   "outputs": [],
   "source": []
  }
 ],
 "metadata": {
  "kernelspec": {
   "display_name": "Python 3 (ipykernel)",
   "language": "python",
   "name": "python3"
  },
  "language_info": {
   "codemirror_mode": {
    "name": "ipython",
    "version": 3
   },
   "file_extension": ".py",
   "mimetype": "text/x-python",
   "name": "python",
   "nbconvert_exporter": "python",
   "pygments_lexer": "ipython3",
   "version": "3.8.2"
  }
 },
 "nbformat": 4,
 "nbformat_minor": 4
}
